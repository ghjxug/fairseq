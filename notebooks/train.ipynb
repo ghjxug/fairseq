{
 "cells": [
  {
   "cell_type": "code",
   "execution_count": null,
   "id": "abf9ded0",
   "metadata": {
    "vscode": {
     "languageId": "plaintext"
    }
   },
   "outputs": [],
   "source": [
    "!wget -O miniconda.sh https://repo.anaconda.com/miniconda/Miniconda3-latest-Linux-x86_64.sh\n",
    "!chmod +x miniconda.sh\n",
    "!./miniconda.sh -b -f -p /usr/local\n",
    "\n",
    "!/usr/local/bin/conda create -n py3918 python=3.9.18 -y\n",
    "!source /usr/local/bin/activate py3918\n",
    "!pip install ipykernel\n",
    "!python -m ipykernel install --user --name=py3918 --display-name=\"Python 3.9.18\"\n",
    "# в коллабе нужно поменять среду выполения"
   ]
  },
  {
   "cell_type": "code",
   "execution_count": null,
   "id": "b43217a7",
   "metadata": {
    "vscode": {
     "languageId": "plaintext"
    }
   },
   "outputs": [],
   "source": [
    "!git clone https://github.com/ghjxug/fairseq.git\n",
    "%cd fairseq"
   ]
  },
  {
   "cell_type": "code",
   "execution_count": null,
   "id": "ba400f13",
   "metadata": {
    "vscode": {
     "languageId": "plaintext"
    }
   },
   "outputs": [],
   "source": [
    "!mkdir -p examples/quant/bin_data\n",
    "!mkdir -p examples/quant/model\n",
    "\n",
    "\n",
    "# бинаризованные данные для ускоренного обучения\n",
    "!wget -O examples/quant/bin_data/train_dev_test.tar.xz https://bwsyncandshare.kit.edu/s/WC9yZXTJNgPFWSS/download/train_dev_test.tar.xz\n",
    "!tar -xf examples/quant/bin_data/train_dev_test.tar.xz -C examples/quant/bin_data/\n",
    "\n",
    "# модель для файнтьюнинга\n",
    "!wget -O examples/quant/model/model.pt https://bwsyncandshare.kit.edu/s/5ZXZxxjAyQws2MJ/download/model.pt\n",
    "\n",
    "# codebook\n",
    "!wget -O examples/quant/model/trimmed_dict.txt https://bwsyncandshare.kit.edu/s/W3Tadsmm6ir6JHW/download/trimmed_dict.txt\n",
    "\n"
   ]
  },
  {
   "cell_type": "code",
   "execution_count": null,
   "id": "58f00931",
   "metadata": {
    "vscode": {
     "languageId": "plaintext"
    }
   },
   "outputs": [],
   "source": [
    "!pip install -r notebooks/requirements.txt\n",
    "!pip install --editable ./"
   ]
  },
  {
   "cell_type": "code",
   "execution_count": null,
   "id": "6d845d8a",
   "metadata": {
    "vscode": {
     "languageId": "plaintext"
    }
   },
   "outputs": [],
   "source": [
    "%cd examples/quant/"
   ]
  },
  {
   "cell_type": "code",
   "execution_count": null,
   "id": "3527b0b4",
   "metadata": {
    "vscode": {
     "languageId": "plaintext"
    }
   },
   "outputs": [],
   "source": [
    "!bash train.codebook.sh"
   ]
  },
  {
   "cell_type": "code",
   "execution_count": null,
   "id": "11dfcdb3",
   "metadata": {
    "vscode": {
     "languageId": "plaintext"
    }
   },
   "outputs": [],
   "source": [
    "# скачиваем воспроизведенный претрейн\n",
    "!mkdir -p examples/quant/model/codebook.slice16.ncodes10000.passcont0.9/\n",
    "!wget -O wget -O examples/quant/model/codebook.slice16.ncodes10000.passcont0.9/pretrain.pt https://s962sas.storage.yandex.net/rdisk/74c73642a8ac83b39a5570cdc51aa4390e99b714ab8ceed9f8f8d982ac7927f3/68e5ba76/fKqInKw3d7bLFOeFnMGnhKrU0MN29ihzMA0pbpC95tS8eNNyX_vr0zsqyPIOC_Lv0k-ZhsQfqgy2_bVB4u59KT2K3MA3ld_bTV5BNzAUQbqr8npumZHI4midPdWhecNq\\?uid\\=0\\&filename\\=checkpoint_best.pt\\&disposition\\=attachment\\&hash\\=4iuNxbL6z5GR%2Br0//VsA64WUyvoU9HKb23U3m6wnRIfYqLsMNtK2PJl5Hl%2Bx/DRssLK2WbwBkR//qfmVHoPilw%3D%3D\\&limit\\=0\\&content_type\\=application%2Fzip\\&owner_uid\\=1130000064722208\\&fsize\\=2282471350\\&hid\\=4754949c076b7da77fb421db6e925500\\&media_type\\=compressed\\&tknv\\=v3\\&ts\\=6409b606b0980\\&s\\=2a0c181869059a6690a468ab1b869e350c60f54e802faabd10f11f8ad817f162\\&pb\\=U2FsdGVkX1_-hyXM5JppRBtbANsmPUPUYpmp_osKzHQWHALpGU0UszfEMrQLnwrsgMRFHMKuft3tZedkGOJ1sCAgVjhy1LPJ98XHsnkbPHCXGjBrXc7Tuet-TK1lGOnG"
   ]
  }
 ],
 "metadata": {
  "language_info": {
   "name": "python"
  }
 },
 "nbformat": 4,
 "nbformat_minor": 5
}
