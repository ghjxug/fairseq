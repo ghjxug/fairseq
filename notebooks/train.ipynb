{
 "cells": [
  {
   "cell_type": "code",
   "execution_count": null,
   "id": "abf9ded0",
   "metadata": {
    "vscode": {
     "languageId": "plaintext"
    }
   },
   "outputs": [],
   "source": [
    "# бинаризованные данные для ускоренного обучения\n",
    "!wget -O bin_data/train_dev_test.tar.xz https://bwsyncandshare.kit.edu/s/WC9yZXTJNgPFWSS\n",
    "!tar -xf bin_data/train_dev_test.tar.xz\n",
    "# модель для файнтьюнинга\n",
    "!wget -O model/model.pt https://bwsyncandshare.kit.edu/s/5ZXZxxjAyQws2MJ/download/model.pt\n",
    "# codebook \n",
    "!wget -O model/trimmed_dict.txt https://bwsyncandshare.kit.edu/s/W3Tadsmm6ir6JHW/download/trimmed_dict.txt"
   ]
  },
  {
   "cell_type": "code",
   "execution_count": null,
   "id": "b43217a7",
   "metadata": {
    "vscode": {
     "languageId": "plaintext"
    }
   },
   "outputs": [],
   "source": []
  }
 ],
 "metadata": {
  "language_info": {
   "name": "python"
  }
 },
 "nbformat": 4,
 "nbformat_minor": 5
}
